{
  "nbformat": 4,
  "nbformat_minor": 0,
  "metadata": {
    "colab": {
      "provenance": [],
      "authorship_tag": "ABX9TyOdE4DUOhXfQ6N6TTGkA4x/",
      "include_colab_link": true
    },
    "kernelspec": {
      "name": "python3",
      "display_name": "Python 3"
    },
    "language_info": {
      "name": "python"
    }
  },
  "cells": [
    {
      "cell_type": "markdown",
      "metadata": {
        "id": "view-in-github",
        "colab_type": "text"
      },
      "source": [
        "<a href=\"https://colab.research.google.com/github/js-god/azc3-py/blob/main/pytorch101.ipynb\" target=\"_parent\"><img src=\"https://colab.research.google.com/assets/colab-badge.svg\" alt=\"Open In Colab\"/></a>"
      ]
    },
    {
      "cell_type": "code",
      "execution_count": null,
      "metadata": {
        "colab": {
          "base_uri": "https://localhost:8080/"
        },
        "id": "0IZDddNMMQFp",
        "outputId": "efdf0efb-c549-4aa6-f4f6-24c51b999f62"
      },
      "outputs": [
        {
          "output_type": "stream",
          "name": "stdout",
          "text": [
            "tensor([1, 2, 3, 4, 5])\n",
            "tensor([[1, 2, 3],\n",
            "        [4, 5, 6]])\n"
          ]
        }
      ],
      "source": [
        "import torch\n",
        "\n",
        "my_vector = torch.tensor([1,2,3,4,5])\n",
        "print(my_vector)\n",
        "\n",
        "my_matrix = torch.tensor([[1,2,3],[4,5,6]])\n",
        "print(my_matrix)"
      ]
    },
    {
      "cell_type": "code",
      "source": [
        "my_matrix = torch.tensor([[1, 2], [3, 4]])\n",
        "print(my_matrix)"
      ],
      "metadata": {
        "colab": {
          "base_uri": "https://localhost:8080/"
        },
        "id": "WIgyN8KVNlS9",
        "outputId": "9e5b42d1-5530-408a-db1e-fbadaee474c2"
      },
      "execution_count": null,
      "outputs": [
        {
          "output_type": "stream",
          "name": "stdout",
          "text": [
            "tensor([[1, 2],\n",
            "        [3, 4]])\n"
          ]
        }
      ]
    },
    {
      "cell_type": "code",
      "source": [
        "element = my_matrix[0, 1]\n",
        "print(element)"
      ],
      "metadata": {
        "colab": {
          "base_uri": "https://localhost:8080/"
        },
        "id": "VOkriym_N_Fc",
        "outputId": "e0c3fbe0-c156-4c5a-88cd-ca7c8066917c"
      },
      "execution_count": null,
      "outputs": [
        {
          "output_type": "stream",
          "name": "stdout",
          "text": [
            "tensor(2)\n"
          ]
        }
      ]
    },
    {
      "cell_type": "code",
      "source": [
        "added_matrix = my_matrix + 10\n",
        "print(added_matrix)\n",
        "\n",
        "multiplied_matrix = my_matrix * 2\n",
        "print(multiplied_matrix)"
      ],
      "metadata": {
        "colab": {
          "base_uri": "https://localhost:8080/"
        },
        "id": "Ctdg6yJ6OwaQ",
        "outputId": "20f2597e-b63a-4dcd-a8a9-d311ab91825c"
      },
      "execution_count": null,
      "outputs": [
        {
          "output_type": "stream",
          "name": "stdout",
          "text": [
            "tensor([[11, 12],\n",
            "        [13, 14]])\n",
            "tensor([[2, 4],\n",
            "        [6, 8]])\n"
          ]
        }
      ]
    },
    {
      "cell_type": "code",
      "source": [
        "other_matrix = torch.tensor([[5, 6], [7, 8]])\n",
        "sum_of_matrices = my_matrix + other_matrix\n",
        "print(sum_of_matrices)"
      ],
      "metadata": {
        "colab": {
          "base_uri": "https://localhost:8080/"
        },
        "id": "3AFWHCbFPlHN",
        "outputId": "202b867e-27ba-4809-c83e-c54508a0d849"
      },
      "execution_count": null,
      "outputs": [
        {
          "output_type": "stream",
          "name": "stdout",
          "text": [
            "tensor([[ 6,  8],\n",
            "        [10, 12]])\n"
          ]
        }
      ]
    },
    {
      "cell_type": "code",
      "source": [
        "my_info = {\n",
        "    \"name\": \"Alice\",\n",
        "    \"age\": 30,\n",
        "    \"city\": \"New York\"\n",
        "}\n",
        "\n",
        "print(my_info)\n",
        "print(my_info[\"name\"])\n",
        "print(my_info[\"age\"])\n",
        "print(my_info[\"city\"])\n",
        "\n",
        "\n",
        "\n"
      ],
      "metadata": {
        "colab": {
          "base_uri": "https://localhost:8080/"
        },
        "id": "V-Vrk8CWQm1q",
        "outputId": "9fb84f47-5678-4781-97d1-3340bd3013fa"
      },
      "execution_count": null,
      "outputs": [
        {
          "output_type": "stream",
          "name": "stdout",
          "text": [
            "{'name': 'Alice', 'age': 30, 'city': 'New York'}\n",
            "Alice\n",
            "30\n",
            "New York\n"
          ]
        }
      ]
    },
    {
      "cell_type": "code",
      "source": [
        "my_info[\"occupation\"] = \"Software Engineer\"\n",
        "print(my_info)"
      ],
      "metadata": {
        "colab": {
          "base_uri": "https://localhost:8080/"
        },
        "id": "mnwv4stqTGEG",
        "outputId": "c09d5ab0-b723-424a-bf7f-10b7c0e2a1f6"
      },
      "execution_count": null,
      "outputs": [
        {
          "output_type": "stream",
          "name": "stdout",
          "text": [
            "{'name': 'Alice', 'age': 30, 'city': 'New York', 'occupation': 'Software Engineer'}\n"
          ]
        }
      ]
    },
    {
      "cell_type": "code",
      "source": [
        "my_info[\"age\"] = 31\n",
        "print(my_info)"
      ],
      "metadata": {
        "colab": {
          "base_uri": "https://localhost:8080/"
        },
        "id": "GHGKyy77T8Zj",
        "outputId": "64e35bb5-46df-481f-e5a2-12543c7886af"
      },
      "execution_count": null,
      "outputs": [
        {
          "output_type": "stream",
          "name": "stdout",
          "text": [
            "{'name': 'Alice', 'age': 31, 'city': 'New York', 'occupation': 'Software Engineer'}\n"
          ]
        }
      ]
    },
    {
      "cell_type": "code",
      "source": [
        "greeting = \"Hello\"\n",
        "name = \"Bob\"\n",
        "full_greeting = greeting + \", \" + name + \"!\"\n",
        "print(full_greeting)"
      ],
      "metadata": {
        "colab": {
          "base_uri": "https://localhost:8080/"
        },
        "id": "ZtH4lUT2UxM4",
        "outputId": "f263785e-55d4-4962-ad39-1bbd489400f0"
      },
      "execution_count": null,
      "outputs": [
        {
          "output_type": "stream",
          "name": "stdout",
          "text": [
            "Hello, Bob!\n"
          ]
        }
      ]
    },
    {
      "cell_type": "code",
      "source": [
        "message = \"This is a message.\"\n",
        "length = len(message)\n",
        "print(length)"
      ],
      "metadata": {
        "colab": {
          "base_uri": "https://localhost:8080/"
        },
        "id": "l0ijrD0XU83I",
        "outputId": "230a33b3-0e98-4305-9823-d8689a35e7b3"
      },
      "execution_count": null,
      "outputs": [
        {
          "output_type": "stream",
          "name": "stdout",
          "text": [
            "18\n"
          ]
        }
      ]
    },
    {
      "cell_type": "code",
      "source": [
        "word = \"Python\"\n",
        "first_letter = word[0]\n",
        "third_letter = word[2]\n",
        "print(first_letter)\n",
        "print(third_letter)"
      ],
      "metadata": {
        "colab": {
          "base_uri": "https://localhost:8080/"
        },
        "id": "6u92hVI9VJhH",
        "outputId": "8785fd51-fc50-4f01-d393-1c4e980ee50d"
      },
      "execution_count": null,
      "outputs": [
        {
          "output_type": "stream",
          "name": "stdout",
          "text": [
            "P\n",
            "t\n"
          ]
        }
      ]
    },
    {
      "cell_type": "code",
      "source": [
        "text = \"Hello World\"\n",
        "uppercase_text = text.upper()\n",
        "lowercase_text = text.lower()\n",
        "print(uppercase_text)\n",
        "print(lowercase_text)"
      ],
      "metadata": {
        "colab": {
          "base_uri": "https://localhost:8080/"
        },
        "id": "RS49Q_2aVoXs",
        "outputId": "552871ad-5455-4c76-90be-9fd091d4ccae"
      },
      "execution_count": null,
      "outputs": [
        {
          "output_type": "stream",
          "name": "stdout",
          "text": [
            "HELLO WORLD\n",
            "hello world\n"
          ]
        }
      ]
    },
    {
      "cell_type": "code",
      "source": [
        "messy_text = \"   Hello   \"\n",
        "cleaned_text = messy_text.strip()\n",
        "print(cleaned_text)"
      ],
      "metadata": {
        "colab": {
          "base_uri": "https://localhost:8080/"
        },
        "id": "qI1i-EDrV0IT",
        "outputId": "6be49361-deed-4bf0-cfda-4bd97ea616d3"
      },
      "execution_count": null,
      "outputs": [
        {
          "output_type": "stream",
          "name": "stdout",
          "text": [
            "Hello\n"
          ]
        }
      ]
    },
    {
      "cell_type": "code",
      "source": [
        "sentence = \"This is a sentence.\"\n",
        "words = sentence.split()\n",
        "print(words)"
      ],
      "metadata": {
        "colab": {
          "base_uri": "https://localhost:8080/"
        },
        "id": "1qyNRwaCV-aY",
        "outputId": "4255512e-0cc8-4731-f2b2-a34564b8c26a"
      },
      "execution_count": null,
      "outputs": [
        {
          "output_type": "stream",
          "name": "stdout",
          "text": [
            "['This', 'is', 'a', 'sentence.']\n"
          ]
        }
      ]
    },
    {
      "cell_type": "code",
      "source": [
        "name = input(\"Please enter your name: \")\n",
        "print(f\"Hello, {name}!\")"
      ],
      "metadata": {
        "colab": {
          "base_uri": "https://localhost:8080/"
        },
        "id": "M7mG-W1oYMMs",
        "outputId": "5e5ec748-6212-4429-b446-c398aca7e738"
      },
      "execution_count": null,
      "outputs": [
        {
          "output_type": "stream",
          "name": "stdout",
          "text": [
            "Please enter your name: phon\n",
            "Hello, phon!\n"
          ]
        }
      ]
    },
    {
      "cell_type": "code",
      "source": [
        "age_str = input(\"Please enter your age: \")\n",
        "age = int(age_str)  # Convert the input string to an integer\n",
        "print(f\"You will be {age + 1} next year!\")"
      ],
      "metadata": {
        "colab": {
          "base_uri": "https://localhost:8080/"
        },
        "id": "nyeT_T_sYvs7",
        "outputId": "a9ead95a-04b0-49b7-f55e-014c41419aac"
      },
      "execution_count": null,
      "outputs": [
        {
          "output_type": "stream",
          "name": "stdout",
          "text": [
            "Please enter your age: 40\n",
            "You will be 41 next year!\n"
          ]
        }
      ]
    },
    {
      "cell_type": "code",
      "source": [
        "try:\n",
        "  age_str = input(\"Please enter your age: \")\n",
        "  age = int(age_str)\n",
        "  print(f\"You will be {age + 1} next year!\")\n",
        "except ValueError:\n",
        "  print(\"Invalid input. Please enter a whole number for your age.\")"
      ],
      "metadata": {
        "colab": {
          "base_uri": "https://localhost:8080/"
        },
        "id": "dOJQQEQgZ6P2",
        "outputId": "b47e8189-c214-4b0b-879d-6dfcf84567e9"
      },
      "execution_count": null,
      "outputs": [
        {
          "output_type": "stream",
          "name": "stdout",
          "text": [
            "Please enter your age: hi\n",
            "Invalid input. Please enter a whole number for your age.\n"
          ]
        }
      ]
    },
    {
      "cell_type": "code",
      "source": [
        "try:\n",
        "    file = open(\"my_file.txt\", \"r\")\n",
        "    content = file.read()\n",
        "    print(content)\n",
        "    file.close()  # It's important to close the file when you're done with it!\n",
        "except FileNotFoundError:\n",
        "    print(\"The file 'my_file.txt' was not found.\")"
      ],
      "metadata": {
        "colab": {
          "base_uri": "https://localhost:8080/"
        },
        "id": "A3_r3EY3bTZ7",
        "outputId": "d85debbf-01ca-45bd-abcb-10b73f87fa99"
      },
      "execution_count": null,
      "outputs": [
        {
          "output_type": "stream",
          "name": "stdout",
          "text": [
            "The file 'my_file.txt' was not found.\n"
          ]
        }
      ]
    },
    {
      "cell_type": "code",
      "source": [
        "import random\n",
        "\n",
        "random_number = random.randint(1, 10)  # Generates a random integer between 1 and 10 (inclusive)\n",
        "print(f\"Your random number is: {random_number}\")"
      ],
      "metadata": {
        "colab": {
          "base_uri": "https://localhost:8080/"
        },
        "id": "qKanU-sAf0hN",
        "outputId": "c9a9040b-d2bf-4a00-dd2c-5275dcb6f7da"
      },
      "execution_count": null,
      "outputs": [
        {
          "output_type": "stream",
          "name": "stdout",
          "text": [
            "Your random number is: 4\n"
          ]
        }
      ]
    },
    {
      "cell_type": "code",
      "source": [
        "from datetime import datetime\n",
        "\n",
        "current_time = datetime.now()\n",
        "print(f\"The current time is: {current_time}\")\n",
        "\n"
      ],
      "metadata": {
        "colab": {
          "base_uri": "https://localhost:8080/"
        },
        "id": "5Lx7_YXZgRbs",
        "outputId": "efbb8aa9-0508-40d7-d02f-34f5ee6e6736"
      },
      "execution_count": null,
      "outputs": [
        {
          "output_type": "stream",
          "name": "stdout",
          "text": [
            "The current time is: 2025-04-25 05:53:54.421152\n"
          ]
        }
      ]
    },
    {
      "cell_type": "code",
      "source": [
        "class Dog:\n",
        "    # This is the constructor - it's called when you create a new Dog object\n",
        "    def __init__(self, name, breed):\n",
        "        self.name = name\n",
        "        self.breed = breed\n",
        "\n",
        "    # This is a method - it defines an action the Dog can perform\n",
        "    def bark(self):\n",
        "        print(\"Woof!\")\n",
        "\n",
        "    # Another method\n",
        "    def describe(self):\n",
        "        print(f\"My name is {self.name} and I am a {self.breed}.\")\n",
        "\n",
        "\n",
        "my_dog = Dog(\"Buddy\", \"Golden Retriever\")\n",
        "another_dog = Dog(\"Lucy\", \"Poodle\")\n",
        "\n",
        "print(my_dog.name)   # Accessing the 'name' attribute\n",
        "my_dog.bark()        # Calling the 'bark' method\n",
        "another_dog.describe() # Calling the 'describe' method"
      ],
      "metadata": {
        "colab": {
          "base_uri": "https://localhost:8080/"
        },
        "id": "lL1BLZiFqC1z",
        "outputId": "14d2f47e-aa99-49b1-f069-d01d2d216869"
      },
      "execution_count": null,
      "outputs": [
        {
          "output_type": "stream",
          "name": "stdout",
          "text": [
            "Buddy\n",
            "Woof!\n",
            "My name is Lucy and I am a Poodle.\n"
          ]
        }
      ]
    },
    {
      "cell_type": "code",
      "source": [
        "def linear_search(data_list, target):\n",
        "    for item in data_list:\n",
        "        if item == target:\n",
        "            return True  # Found the target!\n",
        "    return False  # Target not found after checking all items\n",
        "\n",
        "numbers = [10, 5, 22, 8, 15]\n",
        "search_for = 18\n",
        "\n",
        "if linear_search(numbers, search_for):\n",
        "    print(f\"{search_for} was found in the list.\")\n",
        "else:\n",
        "    print(f\"{search_for} was not found in the list.\")"
      ],
      "metadata": {
        "colab": {
          "base_uri": "https://localhost:8080/"
        },
        "id": "c_3dzwN6si-8",
        "outputId": "22f36e52-6edf-441e-94f0-3fb0f36a7910"
      },
      "execution_count": null,
      "outputs": [
        {
          "output_type": "stream",
          "name": "stdout",
          "text": [
            "18 was not found in the list.\n"
          ]
        }
      ]
    },
    {
      "cell_type": "code",
      "source": [
        "def binary_search(sorted_list, target):\n",
        "    low = 0\n",
        "    high = len(sorted_list) - 1\n",
        "\n",
        "    while low <= high:\n",
        "        mid = (low + high) // 2  # Integer division to find the middle index\n",
        "        guess = sorted_list[mid]\n",
        "\n",
        "        if guess == target:\n",
        "            return mid  # Target found at index mid\n",
        "        elif guess < target:\n",
        "            low = mid + 1  # Target is in the right half\n",
        "        else:\n",
        "            high = mid - 1  # Target is in the left half\n",
        "\n",
        "    return -1  # Target not found\n",
        "\n",
        "sorted_numbers = [2, 5, 8, 12, 16, 23, 38, 56, 72, 91]\n",
        "search_for = 230\n",
        "\n",
        "result = binary_search(sorted_numbers, search_for)\n",
        "\n",
        "if result != -1:\n",
        "    print(f\"{search_for} was found at index {result}.\")\n",
        "else:\n",
        "    print(f\"{search_for} was not found in the list.\")"
      ],
      "metadata": {
        "colab": {
          "base_uri": "https://localhost:8080/"
        },
        "id": "LsstF216x-6q",
        "outputId": "66651d70-645e-40ec-a5da-a5758318bdab"
      },
      "execution_count": 31,
      "outputs": [
        {
          "output_type": "stream",
          "name": "stdout",
          "text": [
            "230 was not found in the list.\n"
          ]
        }
      ]
    },
    {
      "cell_type": "code",
      "source": [
        "def merge_sort(data_list):\n",
        "    if len(data_list) <= 1:\n",
        "        return data_list\n",
        "\n",
        "    mid = len(data_list) // 2\n",
        "    left_half = data_list[:mid]\n",
        "    right_half = data_list[mid:]\n",
        "\n",
        "    left_sorted = merge_sort(left_half)\n",
        "    right_sorted = merge_sort(right_half)\n",
        "\n",
        "    return merge(left_sorted, right_sorted)\n",
        "\n",
        "def merge(left, right):\n",
        "    merged = []\n",
        "    left_index = 0\n",
        "    right_index = 0\n",
        "\n",
        "    while left_index < len(left) and right_index < len(right):\n",
        "        if left[left_index] <= right[right_index]:\n",
        "            merged.append(left[left_index])\n",
        "            left_index += 1\n",
        "        else:\n",
        "            merged.append(right[right_index])\n",
        "            right_index += 1\n",
        "\n",
        "    # Add any remaining elements from the left or right sub-list\n",
        "    merged.extend(left[left_index:])\n",
        "    merged.extend(right[right_index:])\n",
        "\n",
        "    return merged\n",
        "\n",
        "unsorted_numbers = [64, 34, 25, 12, 22, 11, 90]\n",
        "sorted_numbers = merge_sort(unsorted_numbers.copy())\n",
        "print(f\"Unsorted list: {unsorted_numbers}\")\n",
        "print(f\"Sorted list: {sorted_numbers}\")"
      ],
      "metadata": {
        "colab": {
          "base_uri": "https://localhost:8080/"
        },
        "id": "frlP2kZ31DyW",
        "outputId": "ed007922-7a62-40d8-9de6-f9b35721bc56"
      },
      "execution_count": 32,
      "outputs": [
        {
          "output_type": "stream",
          "name": "stdout",
          "text": [
            "Unsorted list: [64, 34, 25, 12, 22, 11, 90]\n",
            "Sorted list: [11, 12, 22, 25, 34, 64, 90]\n"
          ]
        }
      ]
    },
    {
      "cell_type": "code",
      "source": [
        "def factorial_recursive(n):\n",
        "    if n == 0:  # Base case\n",
        "        return 1\n",
        "    else:\n",
        "        return n * factorial_recursive(n - 1)\n",
        "\n",
        "number = 5\n",
        "result = factorial_recursive(number)\n",
        "print(f\"The factorial of {number} is {result}\")"
      ],
      "metadata": {
        "colab": {
          "base_uri": "https://localhost:8080/"
        },
        "id": "rZfx1tgu2bDg",
        "outputId": "140dc322-6592-4f2b-b4ef-0c18fb9d3d34"
      },
      "execution_count": 33,
      "outputs": [
        {
          "output_type": "stream",
          "name": "stdout",
          "text": [
            "The factorial of 5 is 120\n"
          ]
        }
      ]
    },
    {
      "cell_type": "code",
      "source": [
        "def fibonacci_recursive(n):\n",
        "    if n <= 1:  # Base cases for n = 0 and n = 1\n",
        "        return n\n",
        "    else:\n",
        "        return fibonacci_recursive(n - 1) + fibonacci_recursive(n - 2)\n",
        "\n",
        "number = 7\n",
        "result = fibonacci_recursive(number)\n",
        "print(f\"The {number}-th Fibonacci number is {result}\")"
      ],
      "metadata": {
        "colab": {
          "base_uri": "https://localhost:8080/"
        },
        "id": "Rsf4B0AF3QQh",
        "outputId": "8fc6f288-7020-441e-a14b-454f810c1241"
      },
      "execution_count": 34,
      "outputs": [
        {
          "output_type": "stream",
          "name": "stdout",
          "text": [
            "The 7-th Fibonacci number is 13\n"
          ]
        }
      ]
    },
    {
      "cell_type": "code",
      "source": [
        "from collections import Counter\n",
        "\n",
        "my_list = ['a', 'b', 'c', 'a', 'b', 'b', 'a']\n",
        "item_counts = Counter(my_list)\n",
        "print(item_counts)\n",
        "print(item_counts['b'])  # Get the count of 'b'"
      ],
      "metadata": {
        "colab": {
          "base_uri": "https://localhost:8080/"
        },
        "id": "uJlMykdD5DYL",
        "outputId": "e59bfd29-4cb3-4f1b-baf3-5e105a55ed36"
      },
      "execution_count": 35,
      "outputs": [
        {
          "output_type": "stream",
          "name": "stdout",
          "text": [
            "Counter({'a': 3, 'b': 3, 'c': 1})\n",
            "3\n"
          ]
        }
      ]
    },
    {
      "cell_type": "code",
      "source": [
        "from collections import deque\n",
        "\n",
        "my_deque = deque([1, 2, 3])\n",
        "my_deque.append(4)\n",
        "my_deque.appendleft(0)\n",
        "print(my_deque)\n",
        "my_deque.pop()\n",
        "my_deque.popleft()\n",
        "print(my_deque)"
      ],
      "metadata": {
        "colab": {
          "base_uri": "https://localhost:8080/"
        },
        "id": "IF7PKOaM5kPZ",
        "outputId": "52428205-6023-426e-dab7-2a2a18ca1b43"
      },
      "execution_count": 36,
      "outputs": [
        {
          "output_type": "stream",
          "name": "stdout",
          "text": [
            "deque([0, 1, 2, 3, 4])\n",
            "deque([1, 2, 3])\n"
          ]
        }
      ]
    },
    {
      "cell_type": "code",
      "source": [
        "import itertools\n",
        "\n",
        "# Generate combinations of length 2 from a list\n",
        "my_list = [1, 2, 3]\n",
        "combinations = list(itertools.combinations(my_list, 2))\n",
        "print(combinations)\n",
        "\n",
        "# Generate permutations of a list\n",
        "permutations = list(itertools.permutations(my_list))\n",
        "print(permutations)"
      ],
      "metadata": {
        "colab": {
          "base_uri": "https://localhost:8080/"
        },
        "id": "L-lAfycV6DaX",
        "outputId": "974a2cfa-12ce-46b9-fca2-3ee3f95bb28a"
      },
      "execution_count": 37,
      "outputs": [
        {
          "output_type": "stream",
          "name": "stdout",
          "text": [
            "[(1, 2), (1, 3), (2, 3)]\n",
            "[(1, 2, 3), (1, 3, 2), (2, 1, 3), (2, 3, 1), (3, 1, 2), (3, 2, 1)]\n"
          ]
        }
      ]
    },
    {
      "cell_type": "code",
      "source": [
        "import numpy as np\n",
        "\n",
        "my_array = np.array([64, 34, 25, 12, 22, 11, 90])\n",
        "sorted_array = np.sort(my_array)\n",
        "print(f\"Sorted NumPy array: {sorted_array}\")"
      ],
      "metadata": {
        "colab": {
          "base_uri": "https://localhost:8080/"
        },
        "id": "8u9ixRnN61a0",
        "outputId": "c6f179c7-da52-4d3d-ce61-f8bf431a1676"
      },
      "execution_count": 38,
      "outputs": [
        {
          "output_type": "stream",
          "name": "stdout",
          "text": [
            "Sorted NumPy array: [11 12 22 25 34 64 90]\n"
          ]
        }
      ]
    },
    {
      "cell_type": "code",
      "source": [
        "import torch\n",
        "\n",
        "float_tensor = torch.tensor([1.0, 2.0, 3.0])\n",
        "print(float_tensor.dtype)\n",
        "\n",
        "int_tensor = torch.tensor([1, 2, 3], dtype=torch.int32)\n",
        "print(int_tensor.dtype)\n",
        "\n",
        "long_tensor = torch.tensor([1, 2, 3], dtype=torch.int64)\n",
        "print(long_tensor.dtype)\n",
        "\n",
        "bool_tensor = torch.tensor([True, False, True])\n",
        "print(bool_tensor.dtype)"
      ],
      "metadata": {
        "colab": {
          "base_uri": "https://localhost:8080/"
        },
        "id": "-OggR9GR8VEc",
        "outputId": "c959727d-f762-4ee7-931f-21a5971f1683"
      },
      "execution_count": 39,
      "outputs": [
        {
          "output_type": "stream",
          "name": "stdout",
          "text": [
            "torch.float32\n",
            "torch.int32\n",
            "torch.int64\n",
            "torch.bool\n"
          ]
        }
      ]
    },
    {
      "cell_type": "code",
      "source": [
        "zeros_tensor = torch.zeros(2, 3)  # Creates a 2x3 tensor filled with zeros\n",
        "print(zeros_tensor)\n",
        "\n",
        "ones_tensor = torch.ones(4)      # Creates a 1D tensor (vector) of size 4 filled with ones\n",
        "print(ones_tensor)\n",
        "\n",
        "rand_tensor = torch.rand(2, 2)   # Creates a 2x2 tensor with random values between 0 and 1\n",
        "print(rand_tensor)\n",
        "\n",
        "randn_tensor = torch.randn(3, 3)  # Creates a 3x3 tensor with random values from a standard normal distribution\n",
        "print(randn_tensor)\n",
        "\n",
        "arange_tensor = torch.arange(0, 10, 2) # Creates a 1D tensor with values from 0 to 10 (exclusive) with a step of 2\n",
        "print(arange_tensor)\n",
        "\n",
        "linspace_tensor = torch.linspace(0, 1, 5) # Creates a 1D tensor with 5 evenly spaced values from 0 to 1 (inclusive)\n",
        "print(linspace_tensor)"
      ],
      "metadata": {
        "colab": {
          "base_uri": "https://localhost:8080/"
        },
        "id": "NxcnjF0d8ryW",
        "outputId": "f4c1ba9a-3f3a-4e0e-baef-ef3aaf366b9a"
      },
      "execution_count": 40,
      "outputs": [
        {
          "output_type": "stream",
          "name": "stdout",
          "text": [
            "tensor([[0., 0., 0.],\n",
            "        [0., 0., 0.]])\n",
            "tensor([1., 1., 1., 1.])\n",
            "tensor([[0.0917, 0.5088],\n",
            "        [0.6072, 0.8235]])\n",
            "tensor([[-0.5756, -1.1505,  0.6886],\n",
            "        [-0.7534,  1.3786, -0.4446],\n",
            "        [ 0.3229,  0.7605, -1.0019]])\n",
            "tensor([0, 2, 4, 6, 8])\n",
            "tensor([0.0000, 0.2500, 0.5000, 0.7500, 1.0000])\n"
          ]
        }
      ]
    },
    {
      "cell_type": "code",
      "source": [
        "a = torch.tensor([[1, 2], [3, 4]])\n",
        "b = torch.tensor([[5, 6], [7, 8]])\n",
        "\n",
        "sum_tensor = torch.add(a, b)\n",
        "print(f\"Sum:\\n{sum_tensor}\")\n",
        "\n",
        "product_tensor = torch.matmul(a, b)\n",
        "print(f\"Product:\\n{product_tensor}\")\n",
        "\n",
        "mean_value = torch.mean(a.float()) # Need to convert to float for mean calculation\n",
        "print(f\"Mean of a: {mean_value}\")"
      ],
      "metadata": {
        "colab": {
          "base_uri": "https://localhost:8080/"
        },
        "id": "kozMEzKo9zkj",
        "outputId": "93a6eefa-1af5-4035-e4fc-0b07734d07b9"
      },
      "execution_count": 41,
      "outputs": [
        {
          "output_type": "stream",
          "name": "stdout",
          "text": [
            "Sum:\n",
            "tensor([[ 6,  8],\n",
            "        [10, 12]])\n",
            "Product:\n",
            "tensor([[19, 22],\n",
            "        [43, 50]])\n",
            "Mean of a: 2.5\n"
          ]
        }
      ]
    },
    {
      "cell_type": "code",
      "source": [
        "if torch.cuda.is_available():\n",
        "    device = torch.device(\"cuda\")\n",
        "    gpu_tensor = a.to(device)\n",
        "    print(f\"Tensor on GPU:\\n{gpu_tensor}\")\n",
        "else:\n",
        "    print(\"CUDA is not available, using CPU.\")"
      ],
      "metadata": {
        "colab": {
          "base_uri": "https://localhost:8080/"
        },
        "id": "S4LTvRSd-0LZ",
        "outputId": "6190da60-c640-4cd1-8c77-a8375fd00e8c"
      },
      "execution_count": 42,
      "outputs": [
        {
          "output_type": "stream",
          "name": "stdout",
          "text": [
            "CUDA is not available, using CPU.\n"
          ]
        }
      ]
    }
  ]
}